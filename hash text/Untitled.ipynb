{
 "cells": [
  {
   "cell_type": "code",
   "execution_count": 21,
   "metadata": {},
   "outputs": [],
   "source": [
    "import hashlib\n",
    "import os\n",
    "def hash_file(filepath):\n",
    "    \"\"\"这个函数接收文件路径，并返回该文件内容的SHA-256哈希值\"\"\"\n",
    "    hash_sha256 = hashlib.sha256()  # create\n",
    "\n",
    "    with open(filepath, 'rb') as file:  # open file \n",
    "        while chunk := file.read(4096):  # \n",
    "            hash_sha256.update(chunk)  # \n",
    "\n",
    "    return hash_sha256.hexdigest()  # return the result\n"
   ]
  },
  {
   "cell_type": "code",
   "execution_count": 22,
   "metadata": {},
   "outputs": [
    {
     "name": "stdout",
     "output_type": "stream",
     "text": [
      "39add5783242d19f45673e32c0dbedbe01739cdf0967c29d33be22b7b2065c88\n"
     ]
    }
   ],
   "source": [
    "# path\n",
    "file_path ='test.txt'\n",
    "hash_result = hash_file(file_path)\n",
    "print(hash_result)\n"
   ]
  },
  {
   "cell_type": "code",
   "execution_count": null,
   "metadata": {},
   "outputs": [],
   "source": []
  }
 ],
 "metadata": {
  "kernelspec": {
   "display_name": "Python 3",
   "language": "python",
   "name": "python3"
  },
  "language_info": {
   "codemirror_mode": {
    "name": "ipython",
    "version": 3
   },
   "file_extension": ".py",
   "mimetype": "text/x-python",
   "name": "python",
   "nbconvert_exporter": "python",
   "pygments_lexer": "ipython3",
   "version": "3.8.3"
  }
 },
 "nbformat": 4,
 "nbformat_minor": 4
}
